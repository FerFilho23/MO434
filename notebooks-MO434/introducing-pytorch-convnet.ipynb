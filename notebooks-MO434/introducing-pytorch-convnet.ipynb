{
 "cells": [
  {
   "cell_type": "markdown",
   "metadata": {
    "colab_type": "text",
    "id": "UACxZR8ciiUQ"
   },
   "source": [
    "# Using PyTorch to build, train, and test convolutional neural networks"
   ]
  },
  {
   "cell_type": "markdown",
   "metadata": {
    "colab_type": "text",
    "id": "wz1OQ5nuzcZs"
   },
   "source": [
    "## Agenda\n",
    "*   Basic operations\n",
    "  *    Convolution\n",
    "  *    Activation\n",
    "  *    Pooling\n",
    "  *    Batch normalization\n",
    "  *    Skip conection\n",
    "  *    Linear\n",
    "  *    Dropout\n",
    "*   Loading and splitting a dataset  \n",
    "*   Building a convolutional neural network\n",
    "*   Defining loss function and optimizer\n",
    "*   Training and testing\n",
    "*   Saving and loading the model\n",
    "\n",
    "\n",
    "\n"
   ]
  },
  {
   "cell_type": "markdown",
   "metadata": {
    "colab_type": "text",
    "id": "F07sd5Oa_lce"
   },
   "source": [
    "## Basic operations"
   ]
  },
  {
   "cell_type": "markdown",
   "metadata": {
    "colab_type": "text",
    "id": "gAnRUGQwlD7C"
   },
   "source": [
    "PyTorch has a module called `nn` that provides a lot of useful tools to build neural networks. This module defines most commonly used operations, such as convolution, pooling and activation. We will see how to use some of these operations using module `nn`: \n",
    "\n",
    "*   Convolution\n",
    "*   Activation\n",
    "*   Pooling\n",
    "*   Batch normalization\n",
    "*   Skip connection\n",
    "*   Linear transformation (dense layer) \n",
    "*   Dropout"
   ]
  },
  {
   "cell_type": "code",
   "execution_count": 1,
   "metadata": {
    "colab": {},
    "colab_type": "code",
    "id": "sCdMfoJL_ii9"
   },
   "outputs": [],
   "source": [
    "#import module nn\n",
    "import torch\n",
    "from torch import nn as nn"
   ]
  },
  {
   "cell_type": "markdown",
   "metadata": {
    "colab_type": "text",
    "id": "6p4eyRIkAYHq"
   },
   "source": [
    "### Convolution"
   ]
  },
  {
   "cell_type": "markdown",
   "metadata": {
    "colab_type": "text",
    "id": "ffbtsg3Fr8I8"
   },
   "source": [
    "You must provide the number of input channels, the number of output channels (i.e., number of kernels), and the kernel sizes. To preserve image dimensions, you must provide the padding size. \n",
    "\n",
    "CLASS torch.nn.Conv2d(in_channels, out_channels, kernel_size, stride=1, padding=0, dilation=1, groups=1, bias=True, padding_mode='zeros', device=None, dtype=None)"
   ]
  },
  {
   "cell_type": "code",
   "execution_count": 2,
   "metadata": {
    "colab": {},
    "colab_type": "code",
    "id": "GulcMRYF_yMg"
   },
   "outputs": [],
   "source": [
    "#it defines a convolution with 3 kernels of sizes 5 x 3\n",
    "conv = nn.Conv2d(in_channels=2, out_channels=3, kernel_size=(5, 3), padding=(2,1))"
   ]
  },
  {
   "cell_type": "markdown",
   "metadata": {
    "colab_type": "text",
    "id": "vIPiM70Bn-ib"
   },
   "source": [
    "The weights are stored in a tensor $K_{N, M, P, Q}$, such that\n",
    "$N$ is the number of kernels, $M$ is the number of input channels, $P$ and $Q$ are the input dimensions (height, width). \n",
    "\n"
   ]
  },
  {
   "cell_type": "code",
   "execution_count": 3,
   "metadata": {
    "colab": {
     "base_uri": "https://localhost:8080/",
     "height": 34
    },
    "colab_type": "code",
    "id": "nAWDHZM-UmOO",
    "outputId": "83229aad-6f46-4b41-ee64-baca763b5160"
   },
   "outputs": [
    {
     "name": "stdout",
     "output_type": "stream",
     "text": [
      "torch.Size([3, 2, 5, 3])\n"
     ]
    }
   ],
   "source": [
    "print(conv.weight.data.shape)"
   ]
  },
  {
   "cell_type": "markdown",
   "metadata": {
    "colab_type": "text",
    "id": "znFB_adxsduZ"
   },
   "source": [
    "The input is a tensor $I_{B, M, P, Q}$, such that $B$ is the batch size, $M$ is the number of channels, and $P$ and $Q$ are the input dimensions (height, width). "
   ]
  },
  {
   "cell_type": "code",
   "execution_count": 4,
   "metadata": {
    "colab": {
     "base_uri": "https://localhost:8080/",
     "height": 34
    },
    "colab_type": "code",
    "id": "jGgzqB0N_6Bn",
    "outputId": "deb325d2-3828-47ed-a930-131ae2e60d2a"
   },
   "outputs": [
    {
     "name": "stdout",
     "output_type": "stream",
     "text": [
      "x =  tensor([[[[0.8577, 0.8374, 0.5146, 0.9796, 0.3864, 0.7838, 0.4686, 0.2177],\n",
      "          [0.3660, 0.4669, 0.5876, 0.2981, 0.4239, 0.6861, 0.1611, 0.1052],\n",
      "          [0.8622, 0.8398, 0.8853, 0.0048, 0.3126, 0.6224, 0.3065, 0.9442],\n",
      "          [0.4445, 0.5070, 0.1083, 0.0989, 0.1674, 0.5378, 0.8136, 0.8466],\n",
      "          [0.6881, 0.4148, 0.1724, 0.6462, 0.9563, 0.7251, 0.8951, 0.0809],\n",
      "          [0.1438, 0.5316, 0.2130, 0.8405, 0.0816, 0.5886, 0.9695, 0.1057],\n",
      "          [0.1300, 0.2512, 0.2614, 0.4238, 0.0323, 0.0916, 0.4152, 0.4676],\n",
      "          [0.3235, 0.3981, 0.6654, 0.0908, 0.2302, 0.6896, 0.7762, 0.9038],\n",
      "          [0.3545, 0.9735, 0.1747, 0.2696, 0.6344, 0.9944, 0.8075, 0.7170],\n",
      "          [0.3553, 0.0730, 0.2209, 0.2274, 0.2819, 0.0139, 0.2080, 0.3947]],\n",
      "\n",
      "         [[0.2687, 0.2714, 0.2173, 0.6956, 0.3633, 0.0116, 0.8481, 0.6560],\n",
      "          [0.7069, 0.9844, 0.2028, 0.4787, 0.6913, 0.2495, 0.8119, 0.5454],\n",
      "          [0.7485, 0.1126, 0.8763, 0.1478, 0.6427, 0.9395, 0.9061, 0.1842],\n",
      "          [0.6339, 0.2384, 0.4496, 0.0486, 0.2570, 0.7969, 0.8099, 0.7089],\n",
      "          [0.1470, 0.9783, 0.2566, 0.2752, 0.4707, 0.7008, 0.1294, 0.3985],\n",
      "          [0.7063, 0.3197, 0.3521, 0.0715, 0.8116, 0.0442, 0.2087, 0.1758],\n",
      "          [0.8304, 0.1034, 0.1281, 0.9043, 0.6077, 0.1746, 0.9918, 0.7099],\n",
      "          [0.8472, 0.0385, 0.3168, 0.4001, 0.3771, 0.3087, 0.2584, 0.0312],\n",
      "          [0.7193, 0.5298, 0.6842, 0.9648, 0.5206, 0.1380, 0.5584, 0.5394],\n",
      "          [0.1003, 0.8048, 0.0096, 0.4269, 0.9788, 0.3641, 0.7811, 0.7945]]]])\n",
      "torch.Size([1, 2, 10, 8])\n"
     ]
    }
   ],
   "source": [
    "#creating a random input\n",
    "x = torch.rand(1, 2, 10, 8)\n",
    "print(\"x = \", x)\n",
    "print(x.size())"
   ]
  },
  {
   "cell_type": "code",
   "execution_count": 5,
   "metadata": {
    "colab": {},
    "colab_type": "code",
    "id": "PmW5oc9wAMtf"
   },
   "outputs": [
    {
     "name": "stdout",
     "output_type": "stream",
     "text": [
      "y_conv =  tensor([[[[ 0.2089,  0.2189,  0.2478,  0.2595,  0.4414,  0.0527,  0.2505,\n",
      "            0.1052],\n",
      "          [ 0.1605,  0.1147,  0.2083,  0.0636,  0.2045,  0.1104,  0.1301,\n",
      "            0.2506],\n",
      "          [ 0.1361,  0.3889,  0.2390,  0.1086, -0.0339,  0.2075,  0.2213,\n",
      "            0.6171],\n",
      "          [ 0.0955,  0.1431,  0.2214, -0.1201,  0.1631,  0.2207,  0.2816,\n",
      "            0.7332],\n",
      "          [ 0.1968,  0.0968,  0.3050,  0.1920,  0.2916,  0.4483,  0.4335,\n",
      "            0.3705],\n",
      "          [ 0.2425,  0.1316,  0.2385,  0.0732,  0.0955,  0.0040,  0.2453,\n",
      "            0.1517],\n",
      "          [ 0.0833,  0.1373, -0.0175,  0.0875, -0.0084, -0.1293,  0.1580,\n",
      "            0.2485],\n",
      "          [ 0.1792,  0.4092, -0.1649,  0.1490,  0.3637,  0.1848,  0.3641,\n",
      "            0.4370],\n",
      "          [ 0.2588,  0.4192,  0.1084,  0.2617,  0.4999,  0.1766,  0.2865,\n",
      "            0.5314],\n",
      "          [ 0.0480,  0.3322,  0.1735,  0.1826,  0.2578,  0.0983,  0.0054,\n",
      "            0.3682]],\n",
      "\n",
      "         [[-0.0990, -0.0526, -0.0729,  0.1362, -0.3211,  0.1122, -0.1155,\n",
      "            0.0533],\n",
      "          [-0.3322, -0.2134, -0.1005, -0.1767, -0.3847, -0.1808, -0.4646,\n",
      "           -0.3112],\n",
      "          [-0.4142, -0.4635, -0.3480, -0.4806, -0.2837, -0.4144, -0.4028,\n",
      "           -0.2453],\n",
      "          [-0.3517, -0.2619, -0.6867, -0.1183, -0.3493, -0.6360, -0.3476,\n",
      "           -0.2350],\n",
      "          [-0.2206, -0.5298, -0.3639, -0.2390, -0.0314, -0.7337, -0.5245,\n",
      "           -0.5893],\n",
      "          [-0.4423, -0.4165, -0.2651,  0.0448, -0.5914, -0.3275, -0.4091,\n",
      "           -0.4204],\n",
      "          [-0.5096, -0.1852, -0.1545, -0.3049, -0.4629, -0.1807, -0.5148,\n",
      "           -0.1215],\n",
      "          [-0.2198, -0.4165,  0.1546, -0.5153, -0.4764, -0.3077, -0.5239,\n",
      "           -0.3089],\n",
      "          [-0.2685, -0.1581, -0.2606, -0.2745, -0.3503, -0.1019, -0.3245,\n",
      "           -0.5333],\n",
      "          [-0.0437, -0.6011, -0.3241, -0.2953, -0.3301, -0.2773, -0.4136,\n",
      "           -0.4970]],\n",
      "\n",
      "         [[ 0.0586,  0.2021, -0.1309,  0.2004,  0.2339,  0.1895,  0.3707,\n",
      "            0.0683],\n",
      "          [ 0.4859,  0.4596,  0.3885,  0.3730,  0.4957,  0.4726,  0.7131,\n",
      "            0.0476],\n",
      "          [ 0.1026, -0.2016, -0.1854,  0.1716,  0.0669,  0.1009,  0.2343,\n",
      "           -0.3001],\n",
      "          [ 0.2850,  0.2200,  0.0902,  0.0111,  0.2409,  0.3196, -0.0231,\n",
      "           -0.3318],\n",
      "          [ 0.1806, -0.2138,  0.1385, -0.3326,  0.2050,  0.2446, -0.0345,\n",
      "           -0.1826],\n",
      "          [ 0.2014,  0.2152, -0.1336,  0.2020,  0.3383,  0.2400, -0.2679,\n",
      "           -0.2796],\n",
      "          [ 0.3139, -0.0353,  0.1682,  0.1569,  0.3921,  0.0743,  0.0163,\n",
      "           -0.0846],\n",
      "          [ 0.2927, -0.1167,  0.1635,  0.1824,  0.0781,  0.0758,  0.1325,\n",
      "           -0.3022],\n",
      "          [ 0.2202, -0.0838,  0.0493,  0.2384,  0.0227, -0.0906,  0.1580,\n",
      "           -0.1402],\n",
      "          [ 0.1920, -0.2913, -0.0024, -0.0432, -0.0121,  0.0487,  0.1005,\n",
      "           -0.2165]]]], grad_fn=<ConvolutionBackward0>)\n",
      "torch.Size([1, 3, 10, 8])\n"
     ]
    }
   ],
   "source": [
    "#Convolving x with the three kernels that have already been randomly initialized\n",
    "y_conv = conv(x)\n",
    "print(\"y_conv = \", y_conv)\n",
    "print(y_conv.shape)"
   ]
  },
  {
   "cell_type": "markdown",
   "metadata": {
    "colab_type": "text",
    "id": "4kuaU58CtqfE"
   },
   "source": [
    "We can also set the kernel weights as we want."
   ]
  },
  {
   "cell_type": "code",
   "execution_count": 6,
   "metadata": {
    "colab": {},
    "colab_type": "code",
    "id": "XV21oH6IBZnS"
   },
   "outputs": [],
   "source": [
    "#initializing weights and biases\n",
    "conv.weight.data = torch.rand(3, 2, 5, 3, requires_grad=True) - 0.5\n",
    "conv.bias.data   = torch.rand(3, requires_grad=True) - 0.5"
   ]
  },
  {
   "cell_type": "code",
   "execution_count": 7,
   "metadata": {
    "colab": {},
    "colab_type": "code",
    "id": "FRb2j6YlFxRH"
   },
   "outputs": [
    {
     "name": "stdout",
     "output_type": "stream",
     "text": [
      "y_conv =  tensor([[[[ 2.7099e-01,  5.5210e-02, -4.1349e-01,  2.4742e-01, -5.0851e-02,\n",
      "           -3.4976e-02, -6.8972e-01,  4.8553e-01],\n",
      "          [-2.7221e-01,  3.5735e-01, -9.6674e-01, -1.0279e-01,  4.0941e-01,\n",
      "           -6.9564e-02, -5.6096e-01,  1.6257e-01],\n",
      "          [ 4.5101e-01, -5.0933e-01,  8.8519e-02, -7.7879e-01,  4.1972e-01,\n",
      "            2.9510e-01,  1.6181e-01,  2.5107e-01],\n",
      "          [-4.1760e-02, -4.0352e-01, -1.2313e-01,  5.0757e-01, -1.1432e+00,\n",
      "           -1.0497e-01,  8.4762e-02,  5.5398e-01],\n",
      "          [-5.3484e-01,  4.5153e-01,  2.6426e-02,  3.8083e-01, -9.0981e-01,\n",
      "           -1.9965e-01, -5.2416e-01, -2.6102e-01],\n",
      "          [-5.7825e-01,  7.5078e-02,  3.2126e-01, -1.3460e-01, -6.3642e-01,\n",
      "           -3.0126e-02,  2.3127e-01, -2.7968e-01],\n",
      "          [-1.2863e-01,  4.6322e-01, -5.3235e-01, -1.0915e-01, -4.5613e-01,\n",
      "            5.9516e-02,  1.7571e-01, -1.9384e-01],\n",
      "          [ 8.0860e-01, -8.5147e-02, -4.2017e-03,  3.6157e-01, -1.3470e-01,\n",
      "           -2.0794e-02, -4.7477e-01, -1.1495e-01],\n",
      "          [-7.5674e-03,  5.5019e-01, -7.3857e-03,  2.4348e-01,  3.1348e-01,\n",
      "            3.6507e-01, -2.1576e-01,  3.0477e-01],\n",
      "          [-6.7102e-01,  5.4566e-01, -3.6230e-01, -1.4222e-01,  4.9835e-01,\n",
      "           -1.2114e-01, -2.3994e-01,  7.7245e-01]],\n",
      "\n",
      "         [[-1.2022e+00, -1.6058e+00, -9.4492e-01, -8.8489e-01, -7.6809e-01,\n",
      "           -2.5720e-01, -9.1115e-01, -1.3440e+00],\n",
      "          [-1.5463e+00, -9.2449e-01, -1.0364e+00, -2.5016e-01, -6.9207e-01,\n",
      "           -6.5019e-01, -1.1791e+00, -8.4421e-01],\n",
      "          [-2.0969e+00, -1.0547e+00, -1.9654e+00, -1.1829e+00, -1.5165e+00,\n",
      "           -1.9626e+00, -2.5294e+00, -1.2162e+00],\n",
      "          [-1.1117e+00, -1.9030e+00, -6.8370e-01, -1.6981e+00, -1.7055e+00,\n",
      "           -2.4981e+00, -2.1471e+00, -6.4714e-01],\n",
      "          [-1.5617e+00, -1.8903e+00, -1.2988e+00, -8.7596e-01, -2.3702e+00,\n",
      "           -2.1032e+00, -1.0888e+00, -8.4462e-02],\n",
      "          [-1.7985e+00, -1.0504e+00, -1.1261e+00, -8.8616e-01, -1.4689e+00,\n",
      "           -1.5878e+00, -2.1223e+00, -1.4394e+00],\n",
      "          [-1.6421e+00, -1.5202e+00, -6.1916e-01, -1.1172e+00, -1.8858e+00,\n",
      "           -2.4586e+00, -1.4463e+00, -1.0860e+00],\n",
      "          [-1.6593e+00, -9.4896e-01, -1.5176e+00, -6.8167e-01, -1.9882e+00,\n",
      "           -1.6548e+00, -1.1277e+00, -8.9393e-01],\n",
      "          [-1.1512e+00, -1.5002e+00, -8.4813e-01, -1.4164e+00, -1.8121e+00,\n",
      "           -1.2536e+00, -1.8823e+00, -9.9966e-01],\n",
      "          [-1.2628e+00, -7.3688e-01, -7.9870e-01, -1.1890e+00, -1.2761e+00,\n",
      "           -8.9770e-01, -1.2068e+00, -3.9163e-01]],\n",
      "\n",
      "         [[ 5.1413e-01, -5.5823e-01, -3.1589e-01, -7.0813e-01,  7.8077e-02,\n",
      "            1.6916e-01, -1.6821e-01, -2.8981e-01],\n",
      "          [ 5.6400e-01, -1.1275e-03,  9.8622e-02, -4.2223e-01,  1.7430e-01,\n",
      "            7.1260e-01,  9.4185e-01,  2.6632e-02],\n",
      "          [-2.0436e-01, -9.9099e-01, -1.3578e+00, -1.0780e-01, -1.5860e-01,\n",
      "           -3.7712e-02,  6.2282e-01, -4.0023e-01],\n",
      "          [-5.5528e-02,  5.3951e-02, -2.7702e-01,  9.7850e-01,  7.1996e-01,\n",
      "           -1.6758e-01, -6.1728e-01, -1.5076e+00],\n",
      "          [ 1.9645e-01, -7.4524e-01,  1.5477e-01, -4.5000e-02, -6.1732e-01,\n",
      "           -7.2817e-01, -9.9605e-02, -1.0194e+00],\n",
      "          [ 5.3033e-01, -4.2948e-01, -2.0292e-01, -4.6725e-01, -6.6011e-01,\n",
      "           -6.9163e-01, -3.7906e-01,  1.4384e-02],\n",
      "          [ 1.4586e-01,  1.3098e-01, -4.9643e-01, -2.2660e-01,  3.8030e-02,\n",
      "           -4.6154e-01, -3.4574e-01,  2.7310e-01],\n",
      "          [ 7.6939e-01, -1.9866e-01,  1.7184e-01,  4.0650e-01,  1.0011e+00,\n",
      "           -4.5219e-01, -7.7307e-02, -2.6568e-01],\n",
      "          [-1.0020e-02, -8.2019e-01, -2.4822e-01,  6.3521e-01, -4.5224e-01,\n",
      "           -1.3454e+00, -5.9205e-01, -3.0981e-01],\n",
      "          [-1.6421e-01, -8.0401e-01,  3.0612e-01, -1.9987e-01, -1.0954e+00,\n",
      "           -7.7331e-01, -3.6494e-01, -5.8940e-01]]]],\n",
      "       grad_fn=<ConvolutionBackward0>)\n",
      "torch.Size([1, 3, 10, 8])\n"
     ]
    }
   ],
   "source": [
    "#Convolving x with our new kernel bank of three kernels\n",
    "y_conv = conv(x)\n",
    "print(\"y_conv = \", y_conv)\n",
    "print(y_conv.shape)"
   ]
  },
  {
   "cell_type": "markdown",
   "metadata": {
    "colab_type": "text",
    "id": "QNk_uCdTGv1B"
   },
   "source": [
    "\n",
    "### Activation"
   ]
  },
  {
   "cell_type": "markdown",
   "metadata": {
    "colab_type": "text",
    "id": "2kN1eYB9zZqN"
   },
   "source": [
    "Now we define a ReLU activation function.\n",
    "\n",
    "CLASS torch.nn.ReLU(inplace=False)"
   ]
  },
  {
   "cell_type": "code",
   "execution_count": 8,
   "metadata": {
    "colab": {},
    "colab_type": "code",
    "id": "jJqb6tldGow7"
   },
   "outputs": [],
   "source": [
    "#defining relu function\n",
    "\n",
    "relu = nn.ReLU()"
   ]
  },
  {
   "cell_type": "code",
   "execution_count": 9,
   "metadata": {
    "colab": {},
    "colab_type": "code",
    "id": "euCH4HNfGp38"
   },
   "outputs": [
    {
     "name": "stdout",
     "output_type": "stream",
     "text": [
      "y_relu =  tensor([[[[0.2710, 0.0552, 0.0000, 0.2474, 0.0000, 0.0000, 0.0000, 0.4855],\n",
      "          [0.0000, 0.3574, 0.0000, 0.0000, 0.4094, 0.0000, 0.0000, 0.1626],\n",
      "          [0.4510, 0.0000, 0.0885, 0.0000, 0.4197, 0.2951, 0.1618, 0.2511],\n",
      "          [0.0000, 0.0000, 0.0000, 0.5076, 0.0000, 0.0000, 0.0848, 0.5540],\n",
      "          [0.0000, 0.4515, 0.0264, 0.3808, 0.0000, 0.0000, 0.0000, 0.0000],\n",
      "          [0.0000, 0.0751, 0.3213, 0.0000, 0.0000, 0.0000, 0.2313, 0.0000],\n",
      "          [0.0000, 0.4632, 0.0000, 0.0000, 0.0000, 0.0595, 0.1757, 0.0000],\n",
      "          [0.8086, 0.0000, 0.0000, 0.3616, 0.0000, 0.0000, 0.0000, 0.0000],\n",
      "          [0.0000, 0.5502, 0.0000, 0.2435, 0.3135, 0.3651, 0.0000, 0.3048],\n",
      "          [0.0000, 0.5457, 0.0000, 0.0000, 0.4983, 0.0000, 0.0000, 0.7724]],\n",
      "\n",
      "         [[0.0000, 0.0000, 0.0000, 0.0000, 0.0000, 0.0000, 0.0000, 0.0000],\n",
      "          [0.0000, 0.0000, 0.0000, 0.0000, 0.0000, 0.0000, 0.0000, 0.0000],\n",
      "          [0.0000, 0.0000, 0.0000, 0.0000, 0.0000, 0.0000, 0.0000, 0.0000],\n",
      "          [0.0000, 0.0000, 0.0000, 0.0000, 0.0000, 0.0000, 0.0000, 0.0000],\n",
      "          [0.0000, 0.0000, 0.0000, 0.0000, 0.0000, 0.0000, 0.0000, 0.0000],\n",
      "          [0.0000, 0.0000, 0.0000, 0.0000, 0.0000, 0.0000, 0.0000, 0.0000],\n",
      "          [0.0000, 0.0000, 0.0000, 0.0000, 0.0000, 0.0000, 0.0000, 0.0000],\n",
      "          [0.0000, 0.0000, 0.0000, 0.0000, 0.0000, 0.0000, 0.0000, 0.0000],\n",
      "          [0.0000, 0.0000, 0.0000, 0.0000, 0.0000, 0.0000, 0.0000, 0.0000],\n",
      "          [0.0000, 0.0000, 0.0000, 0.0000, 0.0000, 0.0000, 0.0000, 0.0000]],\n",
      "\n",
      "         [[0.5141, 0.0000, 0.0000, 0.0000, 0.0781, 0.1692, 0.0000, 0.0000],\n",
      "          [0.5640, 0.0000, 0.0986, 0.0000, 0.1743, 0.7126, 0.9418, 0.0266],\n",
      "          [0.0000, 0.0000, 0.0000, 0.0000, 0.0000, 0.0000, 0.6228, 0.0000],\n",
      "          [0.0000, 0.0540, 0.0000, 0.9785, 0.7200, 0.0000, 0.0000, 0.0000],\n",
      "          [0.1964, 0.0000, 0.1548, 0.0000, 0.0000, 0.0000, 0.0000, 0.0000],\n",
      "          [0.5303, 0.0000, 0.0000, 0.0000, 0.0000, 0.0000, 0.0000, 0.0144],\n",
      "          [0.1459, 0.1310, 0.0000, 0.0000, 0.0380, 0.0000, 0.0000, 0.2731],\n",
      "          [0.7694, 0.0000, 0.1718, 0.4065, 1.0011, 0.0000, 0.0000, 0.0000],\n",
      "          [0.0000, 0.0000, 0.0000, 0.6352, 0.0000, 0.0000, 0.0000, 0.0000],\n",
      "          [0.0000, 0.0000, 0.3061, 0.0000, 0.0000, 0.0000, 0.0000, 0.0000]]]],\n",
      "       grad_fn=<ReluBackward0>)\n"
     ]
    }
   ],
   "source": [
    "#applying the relu function to output of a convolution\n",
    "y_relu = relu(y_conv)\n",
    "print(\"y_relu = \",y_relu)"
   ]
  },
  {
   "cell_type": "markdown",
   "metadata": {
    "colab_type": "text",
    "id": "-C32PFOzHoJI"
   },
   "source": [
    "### Pooling"
   ]
  },
  {
   "cell_type": "markdown",
   "metadata": {
    "colab_type": "text",
    "id": "QTAQUZ2Q0sN4"
   },
   "source": [
    "We may define now max poolin. Note that strides greater than 1 will reduce the input size. \n",
    "\n",
    "CLASS torch.nn.MaxPool2d(kernel_size, stride=None, padding=0, dilation=1, return_indices=False, ceil_mode=False)"
   ]
  },
  {
   "cell_type": "code",
   "execution_count": 10,
   "metadata": {
    "colab": {},
    "colab_type": "code",
    "id": "VWeA5kA8HeK4"
   },
   "outputs": [],
   "source": [
    "pool = nn.MaxPool2d(kernel_size=3, stride=1, padding=1)"
   ]
  },
  {
   "cell_type": "code",
   "execution_count": 11,
   "metadata": {
    "colab": {},
    "colab_type": "code",
    "id": "RJZUQLWdH2-7"
   },
   "outputs": [
    {
     "name": "stdout",
     "output_type": "stream",
     "text": [
      "y_pool =  tensor([[[[0.3574, 0.3574, 0.3574, 0.4094, 0.4094, 0.4094, 0.4855, 0.4855],\n",
      "          [0.4510, 0.4510, 0.3574, 0.4197, 0.4197, 0.4197, 0.4855, 0.4855],\n",
      "          [0.4510, 0.4510, 0.5076, 0.5076, 0.5076, 0.4197, 0.5540, 0.5540],\n",
      "          [0.4515, 0.4515, 0.5076, 0.5076, 0.5076, 0.4197, 0.5540, 0.5540],\n",
      "          [0.4515, 0.4515, 0.5076, 0.5076, 0.5076, 0.2313, 0.5540, 0.5540],\n",
      "          [0.4632, 0.4632, 0.4632, 0.3808, 0.3808, 0.2313, 0.2313, 0.2313],\n",
      "          [0.8086, 0.8086, 0.4632, 0.3616, 0.3616, 0.2313, 0.2313, 0.2313],\n",
      "          [0.8086, 0.8086, 0.5502, 0.3616, 0.3651, 0.3651, 0.3651, 0.3048],\n",
      "          [0.8086, 0.8086, 0.5502, 0.4983, 0.4983, 0.4983, 0.7724, 0.7724],\n",
      "          [0.5502, 0.5502, 0.5502, 0.4983, 0.4983, 0.4983, 0.7724, 0.7724]],\n",
      "\n",
      "         [[0.0000, 0.0000, 0.0000, 0.0000, 0.0000, 0.0000, 0.0000, 0.0000],\n",
      "          [0.0000, 0.0000, 0.0000, 0.0000, 0.0000, 0.0000, 0.0000, 0.0000],\n",
      "          [0.0000, 0.0000, 0.0000, 0.0000, 0.0000, 0.0000, 0.0000, 0.0000],\n",
      "          [0.0000, 0.0000, 0.0000, 0.0000, 0.0000, 0.0000, 0.0000, 0.0000],\n",
      "          [0.0000, 0.0000, 0.0000, 0.0000, 0.0000, 0.0000, 0.0000, 0.0000],\n",
      "          [0.0000, 0.0000, 0.0000, 0.0000, 0.0000, 0.0000, 0.0000, 0.0000],\n",
      "          [0.0000, 0.0000, 0.0000, 0.0000, 0.0000, 0.0000, 0.0000, 0.0000],\n",
      "          [0.0000, 0.0000, 0.0000, 0.0000, 0.0000, 0.0000, 0.0000, 0.0000],\n",
      "          [0.0000, 0.0000, 0.0000, 0.0000, 0.0000, 0.0000, 0.0000, 0.0000],\n",
      "          [0.0000, 0.0000, 0.0000, 0.0000, 0.0000, 0.0000, 0.0000, 0.0000]],\n",
      "\n",
      "         [[0.5640, 0.5640, 0.0986, 0.1743, 0.7126, 0.9418, 0.9418, 0.9418],\n",
      "          [0.5640, 0.5640, 0.0986, 0.1743, 0.7126, 0.9418, 0.9418, 0.9418],\n",
      "          [0.5640, 0.5640, 0.9785, 0.9785, 0.9785, 0.9418, 0.9418, 0.9418],\n",
      "          [0.1964, 0.1964, 0.9785, 0.9785, 0.9785, 0.7200, 0.6228, 0.6228],\n",
      "          [0.5303, 0.5303, 0.9785, 0.9785, 0.9785, 0.7200, 0.0144, 0.0144],\n",
      "          [0.5303, 0.5303, 0.1548, 0.1548, 0.0380, 0.0380, 0.2731, 0.2731],\n",
      "          [0.7694, 0.7694, 0.4065, 1.0011, 1.0011, 1.0011, 0.2731, 0.2731],\n",
      "          [0.7694, 0.7694, 0.6352, 1.0011, 1.0011, 1.0011, 0.2731, 0.2731],\n",
      "          [0.7694, 0.7694, 0.6352, 1.0011, 1.0011, 1.0011, 0.0000, 0.0000],\n",
      "          [0.0000, 0.3061, 0.6352, 0.6352, 0.6352, 0.0000, 0.0000, 0.0000]]]],\n",
      "       grad_fn=<MaxPool2DWithIndicesBackward0>)\n",
      "torch.Size([1, 3, 10, 8])\n"
     ]
    }
   ],
   "source": [
    "#applying max pooling to output of ReLu\n",
    "y_pool = pool(y_relu)\n",
    "print(\"y_pool = \", y_pool)\n",
    "print(y_pool.shape)"
   ]
  },
  {
   "cell_type": "markdown",
   "metadata": {
    "colab_type": "text",
    "id": "oXdqFTYZXkz1"
   },
   "source": [
    "### Batch normalization"
   ]
  },
  {
   "cell_type": "markdown",
   "metadata": {
    "colab_type": "text",
    "id": "bMzMfrvq16l-"
   },
   "source": [
    "Now we may define batch normalization to normalize batches in the following way $$y = \\frac{x - \\mathbb{E}[x]}{\\sqrt{\\mathrm{Var}[x]}}\\gamma + \\beta.$$ You must indicate the number of input channels.\n",
    "\n",
    "\n",
    "CLASS torch.nn.BatchNorm1d(num_features, eps=1e-05, momentum=0.1, affine=True, track_running_stats=True, device=None, dtype=None)"
   ]
  },
  {
   "cell_type": "code",
   "execution_count": 12,
   "metadata": {
    "colab": {},
    "colab_type": "code",
    "id": "kwbKQ3LK5VfZ"
   },
   "outputs": [],
   "source": [
    "#defining batch normalization layer: affine=False indicates without learnable parameters. \n",
    "norm = nn.BatchNorm2d(num_features=3, affine=False)"
   ]
  },
  {
   "cell_type": "code",
   "execution_count": 13,
   "metadata": {
    "colab": {},
    "colab_type": "code",
    "id": "946BtTY85shc"
   },
   "outputs": [
    {
     "name": "stdout",
     "output_type": "stream",
     "text": [
      "y_norm =  tensor([[[[-0.8529, -0.8529, -0.8529, -0.4981, -0.4981, -0.4981,  0.0206,\n",
      "            0.0206],\n",
      "          [-0.2147, -0.2147, -0.8529, -0.4279, -0.4279, -0.4279,  0.0206,\n",
      "            0.0206],\n",
      "          [-0.2147, -0.2147,  0.1708,  0.1708,  0.1708, -0.4279,  0.4870,\n",
      "            0.4870],\n",
      "          [-0.2111, -0.2111,  0.1708,  0.1708,  0.1708, -0.4279,  0.4870,\n",
      "            0.4870],\n",
      "          [-0.2111, -0.2111,  0.1708,  0.1708,  0.1708, -1.7121,  0.4870,\n",
      "            0.4870],\n",
      "          [-0.1315, -0.1315, -0.1315, -0.6929, -0.6929, -1.7121, -1.7121,\n",
      "           -1.7121],\n",
      "          [ 2.2220,  2.2220, -0.1315, -0.8241, -0.8241, -1.7121, -1.7121,\n",
      "           -1.7121],\n",
      "          [ 2.2220,  2.2220,  0.4612, -0.8241, -0.8003, -0.8003, -0.8003,\n",
      "           -1.2112],\n",
      "          [ 2.2220,  2.2220,  0.4612,  0.1079,  0.1079,  0.1079,  1.9757,\n",
      "            1.9757],\n",
      "          [ 0.4612,  0.4612,  0.4612,  0.1079,  0.1079,  0.1079,  1.9757,\n",
      "            1.9757]],\n",
      "\n",
      "         [[ 0.0000,  0.0000,  0.0000,  0.0000,  0.0000,  0.0000,  0.0000,\n",
      "            0.0000],\n",
      "          [ 0.0000,  0.0000,  0.0000,  0.0000,  0.0000,  0.0000,  0.0000,\n",
      "            0.0000],\n",
      "          [ 0.0000,  0.0000,  0.0000,  0.0000,  0.0000,  0.0000,  0.0000,\n",
      "            0.0000],\n",
      "          [ 0.0000,  0.0000,  0.0000,  0.0000,  0.0000,  0.0000,  0.0000,\n",
      "            0.0000],\n",
      "          [ 0.0000,  0.0000,  0.0000,  0.0000,  0.0000,  0.0000,  0.0000,\n",
      "            0.0000],\n",
      "          [ 0.0000,  0.0000,  0.0000,  0.0000,  0.0000,  0.0000,  0.0000,\n",
      "            0.0000],\n",
      "          [ 0.0000,  0.0000,  0.0000,  0.0000,  0.0000,  0.0000,  0.0000,\n",
      "            0.0000],\n",
      "          [ 0.0000,  0.0000,  0.0000,  0.0000,  0.0000,  0.0000,  0.0000,\n",
      "            0.0000],\n",
      "          [ 0.0000,  0.0000,  0.0000,  0.0000,  0.0000,  0.0000,  0.0000,\n",
      "            0.0000],\n",
      "          [ 0.0000,  0.0000,  0.0000,  0.0000,  0.0000,  0.0000,  0.0000,\n",
      "            0.0000]],\n",
      "\n",
      "         [[-0.0813, -0.0813, -1.4058, -1.1905,  0.3416,  0.9941,  0.9941,\n",
      "            0.9941],\n",
      "          [-0.0813, -0.0813, -1.4058, -1.1905,  0.3416,  0.9941,  0.9941,\n",
      "            0.9941],\n",
      "          [-0.0813, -0.0813,  1.0984,  1.0984,  1.0984,  0.9941,  0.9941,\n",
      "            0.9941],\n",
      "          [-1.1274, -1.1274,  1.0984,  1.0984,  1.0984,  0.3625,  0.0861,\n",
      "            0.0861],\n",
      "          [-0.1772, -0.1772,  1.0984,  1.0984,  1.0984,  0.3625, -1.6456,\n",
      "           -1.6456],\n",
      "          [-0.1772, -0.1772, -1.2460, -1.2460, -1.5783, -1.5783, -0.9093,\n",
      "           -0.9093],\n",
      "          [ 0.5033,  0.5033, -0.5296,  1.1627,  1.1627,  1.1627, -0.9093,\n",
      "           -0.9093],\n",
      "          [ 0.5033,  0.5033,  0.1213,  1.1627,  1.1627,  1.1627, -0.9093,\n",
      "           -0.9093],\n",
      "          [ 0.5033,  0.5033,  0.1213,  1.1627,  1.1627,  1.1627, -1.6865,\n",
      "           -1.6865],\n",
      "          [-1.6865, -0.8153,  0.1213,  0.1213,  0.1213, -1.6865, -1.6865,\n",
      "           -1.6865]]]], grad_fn=<NativeBatchNormBackward0>)\n"
     ]
    }
   ],
   "source": [
    "#applying batch normalization\n",
    "y_norm = norm(y_pool)\n",
    "print(\"y_norm = \", y_norm)"
   ]
  },
  {
   "cell_type": "markdown",
   "metadata": {
    "colab_type": "text",
    "id": "dxsxUHlk6in6"
   },
   "source": [
    "### Skip connection"
   ]
  },
  {
   "cell_type": "markdown",
   "metadata": {
    "colab_type": "text",
    "id": "pktxly2T7Wau"
   },
   "source": [
    "To skip layers without passing through previus layers, we may concatenate the output of two layers along a given axis. For instance, we may concatenate the input and output of relu as follows.\n",
    "\n",
    "torch.cat(tensors, dim=0, *, out=None) → Tensor"
   ]
  },
  {
   "cell_type": "code",
   "execution_count": 14,
   "metadata": {
    "colab": {},
    "colab_type": "code",
    "id": "mkbib1Lk8fPv"
   },
   "outputs": [
    {
     "name": "stdout",
     "output_type": "stream",
     "text": [
      "concat =  tensor([[[[0.8577, 0.8374, 0.5146, 0.9796, 0.3864, 0.7838, 0.4686, 0.2177],\n",
      "          [0.3660, 0.4669, 0.5876, 0.2981, 0.4239, 0.6861, 0.1611, 0.1052],\n",
      "          [0.8622, 0.8398, 0.8853, 0.0048, 0.3126, 0.6224, 0.3065, 0.9442],\n",
      "          [0.4445, 0.5070, 0.1083, 0.0989, 0.1674, 0.5378, 0.8136, 0.8466],\n",
      "          [0.6881, 0.4148, 0.1724, 0.6462, 0.9563, 0.7251, 0.8951, 0.0809],\n",
      "          [0.1438, 0.5316, 0.2130, 0.8405, 0.0816, 0.5886, 0.9695, 0.1057],\n",
      "          [0.1300, 0.2512, 0.2614, 0.4238, 0.0323, 0.0916, 0.4152, 0.4676],\n",
      "          [0.3235, 0.3981, 0.6654, 0.0908, 0.2302, 0.6896, 0.7762, 0.9038],\n",
      "          [0.3545, 0.9735, 0.1747, 0.2696, 0.6344, 0.9944, 0.8075, 0.7170],\n",
      "          [0.3553, 0.0730, 0.2209, 0.2274, 0.2819, 0.0139, 0.2080, 0.3947]],\n",
      "\n",
      "         [[0.2687, 0.2714, 0.2173, 0.6956, 0.3633, 0.0116, 0.8481, 0.6560],\n",
      "          [0.7069, 0.9844, 0.2028, 0.4787, 0.6913, 0.2495, 0.8119, 0.5454],\n",
      "          [0.7485, 0.1126, 0.8763, 0.1478, 0.6427, 0.9395, 0.9061, 0.1842],\n",
      "          [0.6339, 0.2384, 0.4496, 0.0486, 0.2570, 0.7969, 0.8099, 0.7089],\n",
      "          [0.1470, 0.9783, 0.2566, 0.2752, 0.4707, 0.7008, 0.1294, 0.3985],\n",
      "          [0.7063, 0.3197, 0.3521, 0.0715, 0.8116, 0.0442, 0.2087, 0.1758],\n",
      "          [0.8304, 0.1034, 0.1281, 0.9043, 0.6077, 0.1746, 0.9918, 0.7099],\n",
      "          [0.8472, 0.0385, 0.3168, 0.4001, 0.3771, 0.3087, 0.2584, 0.0312],\n",
      "          [0.7193, 0.5298, 0.6842, 0.9648, 0.5206, 0.1380, 0.5584, 0.5394],\n",
      "          [0.1003, 0.8048, 0.0096, 0.4269, 0.9788, 0.3641, 0.7811, 0.7945]],\n",
      "\n",
      "         [[0.2710, 0.0552, 0.0000, 0.2474, 0.0000, 0.0000, 0.0000, 0.4855],\n",
      "          [0.0000, 0.3574, 0.0000, 0.0000, 0.4094, 0.0000, 0.0000, 0.1626],\n",
      "          [0.4510, 0.0000, 0.0885, 0.0000, 0.4197, 0.2951, 0.1618, 0.2511],\n",
      "          [0.0000, 0.0000, 0.0000, 0.5076, 0.0000, 0.0000, 0.0848, 0.5540],\n",
      "          [0.0000, 0.4515, 0.0264, 0.3808, 0.0000, 0.0000, 0.0000, 0.0000],\n",
      "          [0.0000, 0.0751, 0.3213, 0.0000, 0.0000, 0.0000, 0.2313, 0.0000],\n",
      "          [0.0000, 0.4632, 0.0000, 0.0000, 0.0000, 0.0595, 0.1757, 0.0000],\n",
      "          [0.8086, 0.0000, 0.0000, 0.3616, 0.0000, 0.0000, 0.0000, 0.0000],\n",
      "          [0.0000, 0.5502, 0.0000, 0.2435, 0.3135, 0.3651, 0.0000, 0.3048],\n",
      "          [0.0000, 0.5457, 0.0000, 0.0000, 0.4983, 0.0000, 0.0000, 0.7724]],\n",
      "\n",
      "         [[0.0000, 0.0000, 0.0000, 0.0000, 0.0000, 0.0000, 0.0000, 0.0000],\n",
      "          [0.0000, 0.0000, 0.0000, 0.0000, 0.0000, 0.0000, 0.0000, 0.0000],\n",
      "          [0.0000, 0.0000, 0.0000, 0.0000, 0.0000, 0.0000, 0.0000, 0.0000],\n",
      "          [0.0000, 0.0000, 0.0000, 0.0000, 0.0000, 0.0000, 0.0000, 0.0000],\n",
      "          [0.0000, 0.0000, 0.0000, 0.0000, 0.0000, 0.0000, 0.0000, 0.0000],\n",
      "          [0.0000, 0.0000, 0.0000, 0.0000, 0.0000, 0.0000, 0.0000, 0.0000],\n",
      "          [0.0000, 0.0000, 0.0000, 0.0000, 0.0000, 0.0000, 0.0000, 0.0000],\n",
      "          [0.0000, 0.0000, 0.0000, 0.0000, 0.0000, 0.0000, 0.0000, 0.0000],\n",
      "          [0.0000, 0.0000, 0.0000, 0.0000, 0.0000, 0.0000, 0.0000, 0.0000],\n",
      "          [0.0000, 0.0000, 0.0000, 0.0000, 0.0000, 0.0000, 0.0000, 0.0000]],\n",
      "\n",
      "         [[0.5141, 0.0000, 0.0000, 0.0000, 0.0781, 0.1692, 0.0000, 0.0000],\n",
      "          [0.5640, 0.0000, 0.0986, 0.0000, 0.1743, 0.7126, 0.9418, 0.0266],\n",
      "          [0.0000, 0.0000, 0.0000, 0.0000, 0.0000, 0.0000, 0.6228, 0.0000],\n",
      "          [0.0000, 0.0540, 0.0000, 0.9785, 0.7200, 0.0000, 0.0000, 0.0000],\n",
      "          [0.1964, 0.0000, 0.1548, 0.0000, 0.0000, 0.0000, 0.0000, 0.0000],\n",
      "          [0.5303, 0.0000, 0.0000, 0.0000, 0.0000, 0.0000, 0.0000, 0.0144],\n",
      "          [0.1459, 0.1310, 0.0000, 0.0000, 0.0380, 0.0000, 0.0000, 0.2731],\n",
      "          [0.7694, 0.0000, 0.1718, 0.4065, 1.0011, 0.0000, 0.0000, 0.0000],\n",
      "          [0.0000, 0.0000, 0.0000, 0.6352, 0.0000, 0.0000, 0.0000, 0.0000],\n",
      "          [0.0000, 0.0000, 0.3061, 0.0000, 0.0000, 0.0000, 0.0000, 0.0000]]]],\n",
      "       grad_fn=<CatBackward0>)\n",
      "torch.Size([1, 5, 10, 8])\n"
     ]
    }
   ],
   "source": [
    "#concatenating tensors\n",
    "concat = torch.cat((x, y_relu), dim=1)\n",
    "print(\"concat = \", concat)\n",
    "print(concat.shape)"
   ]
  },
  {
   "cell_type": "markdown",
   "metadata": {
    "colab_type": "text",
    "id": "L04BvhVaMF8g"
   },
   "source": [
    "### Linear"
   ]
  },
  {
   "cell_type": "markdown",
   "metadata": {
    "colab_type": "text",
    "id": "Ba9bi_dX9-RR"
   },
   "source": [
    "Dense layers can be implemented by flattening output activations followed by a linear transformation. We must indicate the input and output sizes.\n",
    "\n",
    "torch.flatten(input, start_dim=0, end_dim=-1) → Tensor\n",
    "\n",
    "CLASS torch.nn.Linear(in_features, out_features, bias=True, device=None, dtype=None)"
   ]
  },
  {
   "cell_type": "code",
   "execution_count": 15,
   "metadata": {
    "colab": {},
    "colab_type": "code",
    "id": "BffJeqoYKQgz"
   },
   "outputs": [
    {
     "name": "stdout",
     "output_type": "stream",
     "text": [
      "torch.Size([1, 240])\n"
     ]
    }
   ],
   "source": [
    "#transforming it into a 2D tensor\n",
    "y_flatten = y_pool.flatten(start_dim=1)\n",
    "print(y_flatten.shape)"
   ]
  },
  {
   "cell_type": "code",
   "execution_count": 16,
   "metadata": {
    "colab": {},
    "colab_type": "code",
    "id": "DCzjDwz0MPda"
   },
   "outputs": [],
   "source": [
    "#defining the linear layer\n",
    "linear = nn.Linear(in_features=240, out_features=2, bias=True)"
   ]
  },
  {
   "cell_type": "code",
   "execution_count": 17,
   "metadata": {
    "colab": {},
    "colab_type": "code",
    "id": "AP5e4LInMgm-"
   },
   "outputs": [
    {
     "name": "stdout",
     "output_type": "stream",
     "text": [
      "tensor([[0.1234, 0.2046]], grad_fn=<AddmmBackward0>)\n",
      "torch.Size([1, 2])\n"
     ]
    }
   ],
   "source": [
    "#applying linear the transformation\n",
    "y_linear = linear(y_flatten)\n",
    "print(y_linear)\n",
    "print(y_linear.shape)"
   ]
  },
  {
   "cell_type": "markdown",
   "metadata": {},
   "source": [
    "### Dropout"
   ]
  },
  {
   "cell_type": "markdown",
   "metadata": {},
   "source": [
    "For regularization, we may also add a dropout layer to randomly disconsider elements of the input tensor (it sets zeroes) with probability p by following a Bernoulli distribution. The outputs are scaled by a factor $\\frac{1}{1-p}$ during training. \n",
    "\n",
    "CLASStorch.nn.Dropout(p=0.5, inplace=False)"
   ]
  },
  {
   "cell_type": "code",
   "execution_count": 18,
   "metadata": {},
   "outputs": [],
   "source": [
    "drop = nn.Dropout(0.5)"
   ]
  },
  {
   "cell_type": "code",
   "execution_count": 19,
   "metadata": {},
   "outputs": [],
   "source": [
    "x = torch.randn((5,5))"
   ]
  },
  {
   "cell_type": "code",
   "execution_count": 20,
   "metadata": {},
   "outputs": [],
   "source": [
    "y = drop(x)"
   ]
  },
  {
   "cell_type": "code",
   "execution_count": 21,
   "metadata": {},
   "outputs": [
    {
     "name": "stdout",
     "output_type": "stream",
     "text": [
      "Before dropout:  tensor([[-1.4385,  1.3806,  0.7608,  0.8161, -0.2248],\n",
      "        [-1.2233, -1.2800, -1.5703, -0.1287, -1.3774],\n",
      "        [-0.5469, -1.0448,  0.0061,  0.9676, -0.4840],\n",
      "        [-0.3061,  0.8120,  0.9713, -0.5200, -2.0109],\n",
      "        [ 0.1925,  1.6514,  0.8017,  1.1456, -1.7756]])\n"
     ]
    }
   ],
   "source": [
    "print(\"Before dropout: \", x)"
   ]
  },
  {
   "cell_type": "code",
   "execution_count": 22,
   "metadata": {},
   "outputs": [
    {
     "name": "stdout",
     "output_type": "stream",
     "text": [
      "After dropout tensor([[-2.8770,  0.0000,  1.5217,  1.6321, -0.0000],\n",
      "        [-0.0000, -0.0000, -0.0000, -0.2574, -2.7549],\n",
      "        [-0.0000, -0.0000,  0.0122,  1.9351, -0.9680],\n",
      "        [-0.0000,  0.0000,  0.0000, -1.0401, -4.0217],\n",
      "        [ 0.3850,  3.3027,  0.0000,  2.2912, -3.5512]])\n"
     ]
    }
   ],
   "source": [
    "print(\"After dropout\", y)"
   ]
  },
  {
   "cell_type": "markdown",
   "metadata": {
    "colab_type": "text",
    "id": "ngs43NaBIQlu"
   },
   "source": [
    "# Building a CNN for fashion mnist"
   ]
  },
  {
   "cell_type": "code",
   "execution_count": 23,
   "metadata": {},
   "outputs": [
    {
     "data": {
      "image/png": "[encoded data removed]",
      "text/plain": [
       "<Figure size 640x480 with 1 Axes>"
      ]
     },
     "metadata": {},
     "output_type": "display_data"
    }
   ],
   "source": [
    "import matplotlib.pyplot as plt\n",
    "\n",
    "fig = plt.imread('./figs/fmnist.png')\n",
    "plt.imshow(fig)\n",
    "plt.axis(\"off\")\n",
    "plt.show()"
   ]
  },
  {
   "cell_type": "markdown",
   "metadata": {},
   "source": [
    "### Loading the Dataset"
   ]
  },
  {
   "cell_type": "code",
   "execution_count": 24,
   "metadata": {},
   "outputs": [],
   "source": [
    "#import modules to manipulate data\n",
    "from torch.utils.data import DataLoader, random_split\n",
    "from torchvision import datasets\n",
    "from torchvision import transforms\n",
    "# important to report the training results\n",
    "from torch_snippets.torch_loader import Report"
   ]
  },
  {
   "cell_type": "code",
   "execution_count": 25,
   "metadata": {},
   "outputs": [],
   "source": [
    "#define transformations between brackets to apply on the dataset images. For instance, convert them into tensors.\n",
    "transformations = transforms.Compose([transforms.ToTensor()]) "
   ]
  },
  {
   "cell_type": "markdown",
   "metadata": {},
   "source": [
    "#### You may load training and test images separately or"
   ]
  },
  {
   "cell_type": "code",
   "execution_count": 26,
   "metadata": {},
   "outputs": [],
   "source": [
    "#training_set = datasets.FashionMNIST(\n",
    "#    root=\"./images\",\n",
    "#    train=True,\n",
    "#    download=True,\n",
    "#    transform=transformations\n",
    "#)\n",
    "\n",
    "#test_set = datasets.FashionMNIST(\n",
    "#    root=\"./images\",\n",
    "#    train=False,\n",
    "#    download=True,\n",
    "#    transform=transformations\n",
    "#)"
   ]
  },
  {
   "cell_type": "markdown",
   "metadata": {},
   "source": [
    "#### you may download the training set and split it as you wish."
   ]
  },
  {
   "cell_type": "code",
   "execution_count": 27,
   "metadata": {},
   "outputs": [],
   "source": [
    "data_set = datasets.FashionMNIST(\n",
    "    root=\"./images\",\n",
    "    train=True,\n",
    "    download=True,\n",
    "    transform=transformations\n",
    ")"
   ]
  },
  {
   "cell_type": "code",
   "execution_count": 28,
   "metadata": {},
   "outputs": [],
   "source": [
    "#divide the dataset randomly into train, valid, and test sets. \n",
    "trainset, validset, testset = random_split(data_set, [30000, 15000, 15000])"
   ]
  },
  {
   "cell_type": "markdown",
   "metadata": {},
   "source": [
    "### Visualizing training images"
   ]
  },
  {
   "cell_type": "code",
   "execution_count": 29,
   "metadata": {},
   "outputs": [
    {
     "data": {
      "image/png": "[encoded data removed]",
      "text/plain": [
       "<Figure size 800x800 with 9 Axes>"
      ]
     },
     "metadata": {},
     "output_type": "display_data"
    }
   ],
   "source": [
    "labels_map = {\n",
    "    0: \"T-Shirt\",\n",
    "    1: \"Trouser\",\n",
    "    2: \"Pullover\",\n",
    "    3: \"Dress\",\n",
    "    4: \"Coat\",\n",
    "    5: \"Sandal\",\n",
    "    6: \"Shirt\",\n",
    "    7: \"Sneaker\",\n",
    "    8: \"Bag\",\n",
    "    9: \"Ankle Boot\",\n",
    "}\n",
    "figure = plt.figure(figsize=(8, 8))\n",
    "cols, rows = 3, 3\n",
    "for i in range(1, cols * rows + 1):\n",
    "    sample_idx = torch.randint(len(trainset), size=(1,)).item()\n",
    "    img, label = trainset[sample_idx]\n",
    "    figure.add_subplot(rows, cols, i)\n",
    "    plt.title(labels_map[label])\n",
    "    plt.axis(\"off\")\n",
    "    plt.imshow(img.squeeze(), cmap=\"gray\")\n",
    "plt.show()"
   ]
  },
  {
   "cell_type": "markdown",
   "metadata": {},
   "source": [
    "### Defining Dataloaders"
   ]
  },
  {
   "cell_type": "markdown",
   "metadata": {},
   "source": [
    "A dataloader divides a dataset into batches for iteration. Each iteration returns the next batch of train_features and train_labels (containing batch_size=64 features and labels, for instance). By specifying shuffle=True, after we iterate over all batches the dataset is shuffled (this is important to avoid overfitting when training a NN).\n",
    "\n",
    "DataLoader(dataset, batch_size=1, shuffle=False, sampler=None,\n",
    "           batch_sampler=None, num_workers=0, collate_fn=None,\n",
    "           pin_memory=False, drop_last=False, timeout=0,\n",
    "           worker_init_fn=None, *, prefetch_factor=2,\n",
    "           persistent_workers=False)"
   ]
  },
  {
   "cell_type": "code",
   "execution_count": 30,
   "metadata": {},
   "outputs": [],
   "source": [
    "#defining dataloader that will generate batches with 64 images at random \n",
    "trainload = DataLoader(trainset, batch_size=64, shuffle=True)\n",
    "testload  = DataLoader(testset, batch_size=64, shuffle=True)\n",
    "validload = DataLoader(validset, batch_size=64, shuffle=True)"
   ]
  },
  {
   "cell_type": "code",
   "execution_count": 31,
   "metadata": {},
   "outputs": [
    {
     "name": "stdout",
     "output_type": "stream",
     "text": [
      "Feature batch shape: torch.Size([64, 1, 28, 28])\n",
      "Label batch shape: torch.Size([64])\n"
     ]
    },
    {
     "data": {
      "image/png": "[encoded data removed]",
      "text/plain": [
       "<Figure size 640x480 with 1 Axes>"
      ]
     },
     "metadata": {},
     "output_type": "display_data"
    },
    {
     "name": "stdout",
     "output_type": "stream",
     "text": [
      "Label: 4 Object: Coat\n"
     ]
    }
   ],
   "source": [
    "# For instance, you can access a batch and display image and label of its first sample.\n",
    "\n",
    "train_features, train_labels = next(iter(trainload)) # returns a batch\n",
    "print(\"Feature batch shape: {}\".format(train_features.shape)) # prints the shape of the features\n",
    "print(\"Label batch shape: {}\".format(train_labels.shape)) # prints the shape of the labels\n",
    "img   = train_features[16].squeeze() # returns the first image\n",
    "label = train_labels[16] # returns its label\n",
    "plt.imshow(img, cmap=\"gray\") # shows image and label\n",
    "plt.show()\n",
    "print(\"Label: {} Object: {}\".format(label.item(), labels_map[label.item()]))"
   ]
  },
  {
   "cell_type": "markdown",
   "metadata": {},
   "source": [
    "### Defining our CNN model"
   ]
  },
  {
   "cell_type": "code",
   "execution_count": 32,
   "metadata": {
    "colab": {},
    "colab_type": "code",
    "id": "P3harIz2LtcR"
   },
   "outputs": [],
   "source": [
    "import math"
   ]
  },
  {
   "cell_type": "code",
   "execution_count": 33,
   "metadata": {
    "colab": {},
    "colab_type": "code",
    "id": "PnEm1AsiITWZ"
   },
   "outputs": [],
   "source": [
    "# a convolutional block\n",
    "def conv_block(nchannels_in, nchannels_out, stride_val):\n",
    "    return nn.Sequential(\n",
    "        #defining convolutional layer \n",
    "        nn.Conv2d(in_channels=nchannels_in, out_channels=nchannels_out, kernel_size=(3, 3),\n",
    "                  stride=1, padding=1, bias=False),\n",
    "        #defining a batch normalization layer\n",
    "        nn.BatchNorm2d(num_features=nchannels_out),\n",
    "        #defining activation layer\n",
    "        nn.ReLU(),\n",
    "        #defining a pooling layer\n",
    "        nn.MaxPool2d(kernel_size=(3, 3), stride=stride_val, padding=1)\n",
    "    )\n",
    "  \n",
    "# Note that some operations, such as skip connection and downsampling, can be done in the forward method\n",
    "class FMNISTNet(nn.Module):\n",
    "\n",
    "    def __init__(self, num_classes):\n",
    "        super(FMNISTNet, self).__init__()\n",
    "        \n",
    "        #define the first conv_block\n",
    "        self.conv1 = conv_block(1,16,1)\n",
    "        \n",
    "        #defining the second conv_block\n",
    "        self.conv2 = conv_block(16,64,2)                      \n",
    "        \n",
    "        #defining classifier\n",
    "        self.classifier = nn.Sequential(\n",
    "            #defining linear layer\n",
    "            nn.Linear(in_features=int((28*28*(16+64))/(2*2)), out_features=512, bias=True),\n",
    "            #defining activation layer\n",
    "            nn.ReLU(),\n",
    "            # defining a dropout layer\n",
    "            nn.Dropout(0.2),\n",
    "            #defining linear layer as decision layer\n",
    "            nn.Linear(512, num_classes) #Note that you do not need nn.Softmax in torch\n",
    "        )\n",
    "\n",
    "        #initialize weights\n",
    "        self._initialize_weights()\n",
    "\n",
    "    def forward(self, x):\n",
    "        #extracts features\n",
    "        x1      = self.conv1(x)\n",
    "        x2      = self.conv2(x1)\n",
    "        #resizes x1 to have the same size of x2. See other operations in functional.\n",
    "        x1      = torch.nn.functional.interpolate(x1, scale_factor=(0.5, 0.5), mode='nearest',\n",
    "                                                  recompute_scale_factor=True)\n",
    "        #performs skip connection \n",
    "        x       = torch.cat((x1, x2), dim=1)\n",
    "    \n",
    "        #transforms outputs into a 2D tensor\n",
    "        x = torch.flatten(x, start_dim=1)\n",
    "\n",
    "        #classifies features\n",
    "        y = self.classifier(x)\n",
    "  \n",
    "        return y\n",
    "  \n",
    "    # Same as Xavier: nn.init.xavier_normal_()\n",
    "    def _initialize_weights(self):\n",
    "        #for each submodule of our network\n",
    "        for m in self.modules():\n",
    "            if isinstance(m, nn.Conv2d):\n",
    "                #get the number of elements in the layer weights\n",
    "                n = m.kernel_size[0] * m.kernel_size[1] * m.in_channels\n",
    "\n",
    "                #initialize layer weights with random values generated from a normal\n",
    "                #distribution with mean = 0 and std = sqrt(2. / n))\n",
    "                m.weight.data.normal_(mean=0, std=math.sqrt(2. / n))\n",
    "\n",
    "                if m.bias is not None:\n",
    "                    #initialize bias with 0 \n",
    "                    m.bias.data.zero_()\n",
    "            elif isinstance(m, nn.Linear):\n",
    "                #initialize layer weights with random values generated from a normal\n",
    "                #distribution with mean = 0 and std = 1/100\n",
    "                m.weight.data.normal_(mean=0, std=0.01)\n",
    "                if m.bias is not None:\n",
    "                #initialize bias with 0 \n",
    "                    m.bias.data.zero_()"
   ]
  },
  {
   "cell_type": "markdown",
   "metadata": {
    "colab_type": "text",
    "id": "PuN-_jLnKX_p"
   },
   "source": [
    "### Defining a device and creating the model"
   ]
  },
  {
   "cell_type": "code",
   "execution_count": 34,
   "metadata": {
    "colab": {},
    "colab_type": "code",
    "id": "kZ3A0UlWUBAx"
   },
   "outputs": [],
   "source": [
    "#is GPU available?\n",
    "gpu = torch.cuda.is_available()\n",
    "\n",
    "#defining device where to to the computation\n",
    "device = torch.device(0) if gpu else torch.device('cpu')"
   ]
  },
  {
   "cell_type": "code",
   "execution_count": 35,
   "metadata": {
    "colab": {},
    "colab_type": "code",
    "id": "SXOFYjUDLfHI"
   },
   "outputs": [],
   "source": [
    "#creating the model to a dataset with 10 classes and moving it to the correct device\n",
    "model = FMNISTNet(num_classes=10).to(device)"
   ]
  },
  {
   "cell_type": "markdown",
   "metadata": {},
   "source": [
    "### Show the summary of the model"
   ]
  },
  {
   "cell_type": "code",
   "execution_count": 36,
   "metadata": {},
   "outputs": [
    {
     "name": "stdout",
     "output_type": "stream",
     "text": [
      "----------------------------------------------------------------\n",
      "        Layer (type)               Output Shape         Param #\n",
      "================================================================\n",
      "            Conv2d-1           [-1, 16, 28, 28]             144\n",
      "       BatchNorm2d-2           [-1, 16, 28, 28]              32\n",
      "              ReLU-3           [-1, 16, 28, 28]               0\n",
      "         MaxPool2d-4           [-1, 16, 28, 28]               0\n",
      "            Conv2d-5           [-1, 64, 28, 28]           9,216\n",
      "       BatchNorm2d-6           [-1, 64, 28, 28]             128\n",
      "              ReLU-7           [-1, 64, 28, 28]               0\n",
      "         MaxPool2d-8           [-1, 64, 14, 14]               0\n",
      "            Linear-9                  [-1, 512]       8,028,672\n",
      "             ReLU-10                  [-1, 512]               0\n",
      "          Dropout-11                  [-1, 512]               0\n",
      "           Linear-12                   [-1, 10]           5,130\n",
      "================================================================\n",
      "Total params: 8,043,322\n",
      "Trainable params: 8,043,322\n",
      "Non-trainable params: 0\n",
      "----------------------------------------------------------------\n",
      "Input size (MB): 0.00\n",
      "Forward/backward pass size (MB): 1.64\n",
      "Params size (MB): 30.68\n",
      "Estimated Total Size (MB): 32.32\n",
      "----------------------------------------------------------------\n"
     ]
    }
   ],
   "source": [
    "from torchsummary import summary\n",
    "\n",
    "summary(model,(1,28,28)) # FMNIST contains 28x28 images with 1 channel"
   ]
  },
  {
   "cell_type": "markdown",
   "metadata": {},
   "source": [
    "### Show the trainable parameters: weights and bias"
   ]
  },
  {
   "cell_type": "code",
   "execution_count": 37,
   "metadata": {},
   "outputs": [
    {
     "name": "stdout",
     "output_type": "stream",
     "text": [
      "10\n",
      "tensor([[[ 0.6233, -0.1854,  0.5630],\n",
      "         [ 0.1609,  0.8201,  0.4322],\n",
      "         [-0.0623,  0.8631,  0.2406]]], device='cuda:0',\n",
      "       grad_fn=<SelectBackward0>)\n",
      "tensor(1., device='cuda:0', grad_fn=<SelectBackward0>)\n"
     ]
    }
   ],
   "source": [
    "params = list(model.parameters())\n",
    "print(len(params))\n",
    "print(params[0][0]) # random weights of the first filter of the convolutional layer\n",
    "print(params[1][0]) # the bias of that filter"
   ]
  },
  {
   "cell_type": "markdown",
   "metadata": {
    "colab_type": "text",
    "id": "ns-aYW2hLG53"
   },
   "source": [
    "### Loss function"
   ]
  },
  {
   "cell_type": "markdown",
   "metadata": {
    "colab_type": "text",
    "id": "tyibIOQ7IKMs"
   },
   "source": [
    "We use the cross entropy as loss function, which combines softmax and cross entropy.\n",
    "\n",
    "CLASS torch.nn.CrossEntropyLoss(weight=None, size_average=None, ignore_index=-100, reduce=None, reduction='mean')"
   ]
  },
  {
   "cell_type": "code",
   "execution_count": 38,
   "metadata": {
    "colab": {},
    "colab_type": "code",
    "id": "ywWsP2vTLIeL"
   },
   "outputs": [],
   "source": [
    "def Criterion(preds, targets):\n",
    "    ce            = nn.CrossEntropyLoss().to(device)\n",
    "    loss          = ce(preds, targets.long()) \n",
    "    pred_labels   = torch.max(preds, 1)[1] # same as argmax\n",
    "    acc           = torch.sum(pred_labels == targets.data)\n",
    "    n             = pred_labels.size(0)\n",
    "    acc           = acc/n\n",
    "    return loss, acc\n",
    "\n",
    "\n",
    "criterion = Criterion"
   ]
  },
  {
   "cell_type": "markdown",
   "metadata": {
    "colab_type": "text",
    "id": "2MvRRGK1LQDY"
   },
   "source": [
    "### Optimizer"
   ]
  },
  {
   "cell_type": "markdown",
   "metadata": {
    "colab_type": "text",
    "id": "JB-a-LvFeT11"
   },
   "source": [
    "PyTorch has many optimization algorithms. Here we are going to use the Stochastic Gradient Descent."
   ]
  },
  {
   "cell_type": "code",
   "execution_count": 39,
   "metadata": {
    "colab": {},
    "colab_type": "code",
    "id": "WlgVPXhJMCo2"
   },
   "outputs": [],
   "source": [
    "#import module that defines the optimizer\n",
    "import torch.optim as optim"
   ]
  },
  {
   "cell_type": "markdown",
   "metadata": {
    "colab_type": "text",
    "id": "Ap-bAHoUeoUI"
   },
   "source": [
    "To create a optimizer, we need to set a learning rate, a momentum, a weight_decay (L2 regularization).\n",
    "\n",
    "CLASS torch.optim.SGD(params, lr=<required parameter>, momentum=0, dampening=0, weight_decay=0, nesterov=False)"
   ]
  },
  {
   "cell_type": "code",
   "execution_count": 40,
   "metadata": {
    "colab": {},
    "colab_type": "code",
    "id": "yq5b97faLO-l"
   },
   "outputs": [],
   "source": [
    "#defining optimizer\n",
    "optimizer = optim.SGD(model.parameters(), lr=0.01, momentum=0.85, weight_decay=0.0001)"
   ]
  },
  {
   "cell_type": "markdown",
   "metadata": {
    "colab_type": "text",
    "id": "tFXAiYRZe5u-"
   },
   "source": [
    "We can use a learning rate scheduler that can update the learning rate during training. Here we will use a scheduler that multiply the learning rate by a factor $\\gamma$ at every $25$ epochs: e.g., lr=0.5, 0.05, 0.005...\n",
    "\n",
    "CLASS torch.optim.lr_scheduler.StepLR(optimizer, step_size, gamma=0.1, last_epoch=-1, verbose=False)\n"
   ]
  },
  {
   "cell_type": "code",
   "execution_count": 41,
   "metadata": {
    "colab": {},
    "colab_type": "code",
    "id": "g9bEjCBPLZZ0"
   },
   "outputs": [],
   "source": [
    "#defining learning rate scheduler\n",
    "lr_scheduler = optim.lr_scheduler.StepLR(optimizer, step_size=25, gamma=0.1)"
   ]
  },
  {
   "cell_type": "markdown",
   "metadata": {
    "colab_type": "text",
    "id": "EG0RRG5uUJYF"
   },
   "source": [
    "### Defining training and validation/test functions"
   ]
  },
  {
   "cell_type": "code",
   "execution_count": 42,
   "metadata": {
    "colab": {},
    "colab_type": "code",
    "id": "2uWGZ_y7T2b0"
   },
   "outputs": [],
   "source": [
    "def train_batch(model, data, optimizer, criterion, device):\n",
    "    model.train()\n",
    "    ims, targets = data\n",
    "    ims     = ims.to(device=device)\n",
    "    targets = targets.to(device=device)\n",
    "    preds   = model(ims)\n",
    "    loss, acc = criterion(preds, targets)\n",
    "    loss.backward()\n",
    "    optimizer.step()\n",
    "    optimizer.zero_grad()\n",
    "\n",
    "    return loss.item(), acc.item()\n",
    "\n",
    "@torch.no_grad()\n",
    "def validate_batch(model, data, criterion, device):\n",
    "    model.eval()\n",
    "    ims, targets = data\n",
    "    ims     = ims.to(device=device)\n",
    "    targets = targets.to(device=device)\n",
    "    preds   = model(ims)\n",
    "    loss, acc = criterion(preds, targets)\n",
    "    return loss.item(), acc.item()\n",
    "            "
   ]
  },
  {
   "cell_type": "markdown",
   "metadata": {},
   "source": [
    "### Training your model"
   ]
  },
  {
   "cell_type": "code",
   "execution_count": 43,
   "metadata": {
    "colab": {
     "base_uri": "https://localhost:8080/",
     "height": 1000
    },
    "colab_type": "code",
    "id": "pRht_kqVUa4H",
    "outputId": "e52bded8-59e0-4a90-aeb4-b75e46b58561"
   },
   "outputs": [
    {
     "name": "stdout",
     "output_type": "stream",
     "text": [
      "EPOCH: 10.000  trn_acc: 0.937  val_acc: 0.910  val_loss: 0.264  trn_loss: 0.163  (49.95s - 149.86s remaining)\n",
      "EPOCH: 20.000  trn_acc: 0.977  val_acc: 0.918  val_loss: 0.301  trn_loss: 0.062  (97.85s - 97.85s remaining)\n",
      "EPOCH: 30.000  trn_acc: 0.997  val_acc: 0.923  val_loss: 0.322  trn_loss: 0.012  (147.53s - 49.18s remaining)\n",
      "EPOCH: 40.000  trn_acc: 0.998  val_acc: 0.924  val_loss: 0.337  trn_loss: 0.009  (195.73s - 0.00s remaining)\n"
     ]
    }
   ],
   "source": [
    "# initializing variables\n",
    "n_epochs = 40\n",
    "log      = Report(n_epochs)\n",
    "\n",
    "# starting training and validation\n",
    "for ex in range(n_epochs):\n",
    "    N = len(trainload)\n",
    "    for bx, data in enumerate(trainload):\n",
    "        loss, acc = train_batch(model, data, optimizer, criterion, device)\n",
    "        #report results for the batch\n",
    "        log.record((ex+(bx+1)/N), trn_loss=loss, trn_acc=acc, end='\\r')\n",
    "\n",
    "    N = len(validload)\n",
    "    for bx, data in enumerate(validload):\n",
    "        loss, acc = validate_batch(model, data, criterion, device)\n",
    "        log.record((ex+(bx+1)/N), val_loss=loss, val_acc=acc, end='\\r')\n",
    "\n",
    "    if (ex+1) % 10 == 0: log.report_avgs(ex+1)\n",
    "    #count epochs for auto-adjusting the learning rate\n",
    "    lr_scheduler.step()"
   ]
  },
  {
   "cell_type": "markdown",
   "metadata": {},
   "source": [
    "### Plot the results"
   ]
  },
  {
   "cell_type": "code",
   "execution_count": 44,
   "metadata": {},
   "outputs": [
    {
     "name": "stderr",
     "output_type": "stream",
     "text": [
      "100%|████████████████████████████████████████| 141/141 [00:00<00:00, 368.93it/s]\n"
     ]
    },
    {
     "data": {
      "image/png": "[encoded data removed]",
      "text/plain": [
       "<Figure size 800x600 with 1 Axes>"
      ]
     },
     "metadata": {},
     "output_type": "display_data"
    },
    {
     "name": "stderr",
     "output_type": "stream",
     "text": [
      "100%|████████████████████████████████████████| 141/141 [00:00<00:00, 358.21it/s]\n"
     ]
    },
    {
     "data": {
      "image/png": "[encoded data removed]",
      "text/plain": [
       "<Figure size 800x600 with 1 Axes>"
      ]
     },
     "metadata": {},
     "output_type": "display_data"
    }
   ],
   "source": [
    "log.plot_epochs(['trn_loss','val_loss'])\n",
    "log.plot_epochs(['trn_acc','val_acc'])"
   ]
  },
  {
   "cell_type": "markdown",
   "metadata": {},
   "source": [
    "### Test your model"
   ]
  },
  {
   "cell_type": "code",
   "execution_count": 45,
   "metadata": {
    "colab": {
     "base_uri": "https://localhost:8080/",
     "height": 68
    },
    "colab_type": "code",
    "id": "cltw3oIuirqD",
    "outputId": "f554d3dd-d308-457c-c7aa-9966c624cdf8"
   },
   "outputs": [],
   "source": [
    "def Test(model, testload, criterion, device):\n",
    "    N = len(testload)\n",
    "    mean_loss = 0\n",
    "    mean_acc  = 0\n",
    "    for bx, data in enumerate(testload):\n",
    "        loss, acc  = validate_batch(model, data, criterion, device)\n",
    "        mean_loss += loss\n",
    "        mean_acc  += acc\n",
    "    \n",
    "    mean_loss = mean_loss / N\n",
    "    mean_acc  = mean_acc / N\n",
    "    return(mean_loss, mean_acc)\n",
    "\n",
    "\n"
   ]
  },
  {
   "cell_type": "code",
   "execution_count": 46,
   "metadata": {},
   "outputs": [
    {
     "name": "stdout",
     "output_type": "stream",
     "text": [
      "Loss: 0.353638 Acc: 0.924601\n"
     ]
    }
   ],
   "source": [
    "(mean, acc) = Test(model, testload, criterion, device)\n",
    "print('Loss: {:.6f} Acc: {:.6f}'.format(mean,acc))"
   ]
  },
  {
   "cell_type": "markdown",
   "metadata": {},
   "source": [
    "### Save and load your model"
   ]
  },
  {
   "cell_type": "code",
   "execution_count": 47,
   "metadata": {},
   "outputs": [],
   "source": [
    "# Save the tensors in the CPU format rather than in the GPU format to facilitate loading them later. It\n",
    "# does not save the architecture of the model, so the class of the model is required to load it later. \n",
    "torch.save(model.to('cpu').state_dict(), 'FMNistCNN.pth')\n",
    "#model.load_state_dict(torch.load('FMNistCNN.pth'))"
   ]
  },
  {
   "cell_type": "markdown",
   "metadata": {},
   "source": [
    "#### Exercise: The model is overfitted. Play with datasets' sizes, network architecture, and hiperparameters to improve results without overfitting or underfitting."
   ]
  }
 ],
 "metadata": {
  "accelerator": "GPU",
  "colab": {
   "collapsed_sections": [],
   "name": "presentation.ipynb",
   "provenance": []
  },
  "kernelspec": {
   "display_name": "Python 3 (ipykernel)",
   "language": "python",
   "name": "python3"
  },
  "language_info": {
   "codemirror_mode": {
    "name": "ipython",
    "version": 3
   },
   "file_extension": ".py",
   "mimetype": "text/x-python",
   "name": "python",
   "nbconvert_exporter": "python",
   "pygments_lexer": "ipython3",
   "version": "3.12.8"
  }
 },
 "nbformat": 4,
 "nbformat_minor": 4
}
